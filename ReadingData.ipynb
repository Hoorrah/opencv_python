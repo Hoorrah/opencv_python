{
 "cells": [
  {
   "cell_type": "code",
   "execution_count": 1,
   "id": "8af4acab",
   "metadata": {},
   "outputs": [
    {
     "name": "stdout",
     "output_type": "stream",
     "text": [
      "9789632439235\n"
     ]
    }
   ],
   "source": [
    "from isbntools.app import *\n",
    "\n",
    "\n",
    "#getting isbn from name of book\n",
    "get_isbn = isbn_from_words(\"Veszprém\")\n",
    "\n",
    "#getting book data from isbn\n",
    "#det_book = registry.bibformatters['labels'](meta(\"9789632893068\"))\n",
    "#det_book = registry.bibformatters['json'](meta(\"9780718181185\"))\n",
    "print(get_isbn)\n",
    "#print(det_book)"
   ]
  },
  {
   "cell_type": "code",
   "execution_count": 17,
   "id": "11771060",
   "metadata": {},
   "outputs": [],
   "source": [
    "from selenium import webdriver\n",
    "import pandas as pd\n",
    "\n",
    "url = 'https://www.basketball-reference.com/leagues/NBA_2018.html'\n",
    "\n",
    "df =pd.read_html(url, header = 0)\n"
   ]
  },
  {
   "cell_type": "code",
   "execution_count": 52,
   "id": "ae380caf",
   "metadata": {
    "scrolled": true
   },
   "outputs": [],
   "source": [
    "from bs4 import BeautifulSoup\n",
    "import requests\n",
    "from urllib.parse import urljoin\n",
    "from selenium import webdriver\n",
    "import time\n",
    "from selenium.webdriver.common.by import By\n",
    "import pandas as pd\n",
    "\n",
    "url = 'http://corvina.sk-szeged.hu/WebPac/CorvinaWeb?action=simplesearchpage'\n",
    "page = requests.get(url) #if output is 200-299 it is successful\n",
    "\n",
    "soup = BeautifulSoup(page.content , 'html.parser')\n",
    "\n",
    "web = webdriver.Chrome()\n",
    "#open the web page\n",
    "web.get(url)\n",
    "\n",
    "#click on the list of type of search\n",
    "web.find_element(by=By.XPATH, value='//*[@id=\"searchform\"]/div/div/div[1]/span[2]/div/button').click() \n",
    "#choos isbn type search\n",
    "web.find_element(by=By.XPATH, value='//*[@id=\"searchform\"]/div/div/div[1]/span[2]/div/div/ul/li[6]/a').click()\n",
    "\n",
    "#write the isbn input \n",
    "isbn = \"963-836-472-6\"\n",
    "isbnn =web.find_element(by=By.XPATH, value='//*[@id=\"text0\"]')\n",
    "isbnn.send_keys(isbn)\n",
    "#click on the search button\n",
    "web.find_element(by=By.XPATH, value='//*[@id=\"searchform\"]/div/div/div[1]/span[3]/button').click()\n",
    "\n",
    "#click on the list of type of shoe results (details list)\n",
    "web.find_element(by=By.XPATH, value='/html/body/div[4]/form[2]/div/table/tbody/tr/td[2]/div[2]/div/div/button').click() \n",
    "#choos  type search\n",
    "web.find_element(by=By.XPATH, value='/html/body/div[4]/form[2]/div/table/tbody/tr/td[2]/div[2]/div/div/div/ul/li[3]/a').click()\n"
   ]
  }
 ],
 "metadata": {
  "kernelspec": {
   "display_name": "Python 3 (ipykernel)",
   "language": "python",
   "name": "python3"
  },
  "language_info": {
   "codemirror_mode": {
    "name": "ipython",
    "version": 3
   },
   "file_extension": ".py",
   "mimetype": "text/x-python",
   "name": "python",
   "nbconvert_exporter": "python",
   "pygments_lexer": "ipython3",
   "version": "3.9.7"
  }
 },
 "nbformat": 4,
 "nbformat_minor": 5
}
