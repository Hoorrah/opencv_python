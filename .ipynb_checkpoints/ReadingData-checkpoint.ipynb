{
 "cells": [
  {
   "cell_type": "code",
   "execution_count": 2,
   "id": "8af4acab",
   "metadata": {},
   "outputs": [
    {
     "name": "stdout",
     "output_type": "stream",
     "text": [
      "9780718181185\n",
      "Type:      BOOK\n",
      "Title:     Me Before You\n",
      "Author:    Jojo Moyes\n",
      "ISBN:      9780718181185\n",
      "Year:      2016\n",
      "Publisher: Penguin Books\n"
     ]
    }
   ],
   "source": [
    "from isbntools.app import *\n",
    "\n",
    "\n",
    "#getting isbn from name of book\n",
    "get_isbn = isbn_from_words(\"me befor you\")\n",
    "\n",
    "#getting book data from isbn\n",
    "det_book = registry.bibformatters['labels'](meta(\"9780718181185\"))\n",
    "#det_book = registry.bibformatters['json'](meta(\"9780718181185\"))\n",
    "print(get_isbn)\n",
    "print(det_book)"
   ]
  },
  {
   "cell_type": "code",
   "execution_count": 1,
   "id": "ae380caf",
   "metadata": {
    "scrolled": true
   },
   "outputs": [
    {
     "name": "stdout",
     "output_type": "stream",
     "text": [
      "Write tyepe of you are searching for book: ISBN --> i / Title -->t : t\n",
      "Write Title of the book:Horváth Ilona szakácskönyv\n",
      "Szerző: Horváth Ilona\n",
      "Cím: Szakácskönyv / Horváth Ilona ; [átd. Máté Pálné Terenyei Katalin] ; [ill. Sipos Norbert]\n",
      "Dátum: 2015\n",
      "Megjelenés: Új, bőv. kiad., utánny. Kisújszállás : Pannon-Literatúra, 2015\n",
      "Terjedelem: 479 p. : ill. ; 21 cm\n",
      "Megjegyzések: Készült az F. Nagy Angéla által kiegészített kiadás alapján\n",
      "Sorozatcím: (Horváth Ilona életmű) (Szalay könyvek)\n",
      "ETO jelzet: 641.55(083.12)\n",
      "ISBN: (Fűzött)\n",
      "Tárgyszavak: Szakácskönyv\n",
      "Egyéb nevek: Máté Pálné Terenyei Katalin Sipos Norbert (1974-) Nagy Angéla, F. Horváth Ilona életmű Szalay könyvek\n",
      "Kedvencek között:\n",
      "There is no result\n"
     ]
    }
   ],
   "source": [
    "from bs4 import BeautifulSoup\n",
    "import requests\n",
    "from urllib.parse import urljoin\n",
    "from selenium import webdriver\n",
    "from selenium.webdriver.common.by import By\n",
    "import pandas as pd\n",
    "from isbntools.app import *\n",
    "import time\n",
    "import json\n",
    "\n",
    "inputtype = input(\"Write tyepe of you are searching for book: ISBN --> i / Title -->t : \")\n",
    "\n",
    "#if the book is english, search with isbntool libarary  \n",
    "try :\n",
    "    if (inputtype == \"i\"):\n",
    "        inputdata =  input(\"Write the ISBN:\")\n",
    "        det_book = registry.bibformatters['labels'](meta(inputdata))\n",
    "        print(det_book)\n",
    "    elif (inputtype == \"t\"):\n",
    "        inputdata =  input(\"Write Title of the book:\")\n",
    "        get_isbn = isbn_from_words(inputdata)\n",
    "        det_book = registry.bibformatters['labels'](meta(get_isbn))\n",
    "        print(det_book)\n",
    "    else:\n",
    "        print(\"invalid input\")\n",
    "        \n",
    "except:\n",
    "\n",
    "    url = 'http://corvina.sk-szeged.hu/WebPac/CorvinaWeb?action=simplesearchpage'\n",
    "    page = requests.get(url) #if output is 200-299 it is successful\n",
    "\n",
    "    page_soup = BeautifulSoup(page.content , 'html.parser')\n",
    "\n",
    "    web = webdriver.Chrome()\n",
    "    #open the web page\n",
    "    web.get(url)\n",
    "\n",
    "    #click on the list of type of search\n",
    "    web.find_element(by=By.XPATH, value='//*[@id=\"searchform\"]/div/div/div[1]/span[2]/div/button').click() \n",
    "\n",
    "    if (inputtype == \"i\"):\n",
    "        web.find_element(by=By.XPATH, value='//*[@id=\"searchform\"]/div/div/div[1]/span[2]/div/div/ul/li[6]/a').click()\n",
    "    elif (inputtype == \"t\"):\n",
    "        web.find_element(by=By.XPATH, value='//*[@id=\"searchform\"]/div/div/div[1]/span[2]/div/div/ul/li[2]/a').click()\n",
    "    else:\n",
    "        print(\"invalid input\")\n",
    "    #write the input \n",
    "    search =web.find_element(by=By.XPATH, value='//*[@id=\"text0\"]')\n",
    "    search.send_keys(inputdata)\n",
    "    #click on the search button\n",
    "    web.find_element(by=By.XPATH, value='//*[@id=\"searchform\"]/div/div/div[1]/span[3]/button').click()\n",
    "    try:\n",
    "        #click on the list of type of data (details list)\n",
    "        web.find_element(by=By.XPATH, value='/html/body/div[4]/form[2]/div/table/tbody/tr/td[2]/div[2]/div/div/button').click() \n",
    "        #choos type of data we want\n",
    "        web.find_element(by=By.XPATH, value='/html/body/div[4]/form[2]/div/table/tbody/tr/td[2]/div[2]/div/div/div/ul/li[3]/a').click()\n",
    "        \n",
    "        ####reading the data\n",
    "        table=web.find_element(by=By.XPATH, value='/html/body/div[4]/form[3]/div/table/tbody/tr[1]/td/table/tbody/tr[1]/td[2]/table/tbody/tr/td')\n",
    "        table = str(table.text)\n",
    "        print(table)\n",
    "        a = [\"\"]\n",
    "        i = 0\n",
    "        # access to each line of the data from website\n",
    "        for letter in table:\n",
    "            if letter != \"\\n\":\n",
    "                a[i] = a[i] + letter \n",
    "            else:\n",
    "                i = 1+1\n",
    "                a.append(\"\")\n",
    "            \n",
    "            \n",
    "    except:\n",
    "        print(\"There is no result\")\n",
    "    web.quit()"
   ]
  },
  {
   "cell_type": "code",
   "execution_count": null,
   "id": "7e6893f0",
   "metadata": {},
   "outputs": [],
   "source": [
    "#\"Horváth Ilona szakácskönyv\" name of book which go to website"
   ]
  }
 ],
 "metadata": {
  "kernelspec": {
   "display_name": "Python 3 (ipykernel)",
   "language": "python",
   "name": "python3"
  },
  "language_info": {
   "codemirror_mode": {
    "name": "ipython",
    "version": 3
   },
   "file_extension": ".py",
   "mimetype": "text/x-python",
   "name": "python",
   "nbconvert_exporter": "python",
   "pygments_lexer": "ipython3",
   "version": "3.9.7"
  }
 },
 "nbformat": 4,
 "nbformat_minor": 5
}
